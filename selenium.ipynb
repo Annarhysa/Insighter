{
 "cells": [
  {
   "cell_type": "code",
   "execution_count": 54,
   "metadata": {},
   "outputs": [],
   "source": [
    "from selenium import webdriver\n",
    "import time\n",
    "from selenium.webdriver.common.by import By"
   ]
  },
  {
   "cell_type": "code",
   "execution_count": 115,
   "metadata": {},
   "outputs": [],
   "source": [
    "browser = webdriver.Chrome()\n",
    "browser.get('https://www.zomato.com/hyderabad/the-alchemy-kondapur/reviews')"
   ]
  },
  {
   "cell_type": "code",
   "execution_count": 116,
   "metadata": {},
   "outputs": [],
   "source": [
    "text_list = []"
   ]
  },
  {
   "cell_type": "code",
   "execution_count": 125,
   "metadata": {},
   "outputs": [],
   "source": [
    "element_list = browser.find_elements(By.XPATH,\"/html/body/div[1]/div/main/div/section[4]/div/div/section/div[2]/p\")\n",
    "for element in element_list:\n",
    "    text_list.append(element.text)"
   ]
  },
  {
   "cell_type": "code",
   "execution_count": 126,
   "metadata": {},
   "outputs": [
    {
     "data": {
      "text/plain": [
       "['butter pav tastes like mustard oil. dahi bhalla was not good.',\n",
       " 'Ordered items not delivered',\n",
       " 'The quality of food was pathetic and Aloo tikki had a very foul smell.\\nIt looked like it was made of bad/rotten potatoes. Terrible taste and smell. Worst experience ever!',\n",
       " 'Did not send the extra pav I had ordered with the food.\\nPanipuri very salty.',\n",
       " '',\n",
       " 'poori is not good',\n",
       " 'I had the worst chole bhatoore of my life.The chole was uncooked, segregated gravy and tasteless while bhatoore was nothing like bhatoore rather a big sized poori with a crispy surface that got dispersed before eating. Please make it better or remove it from menu.',\n",
       " 'No cap on the lemon soda. No juice by the time the package reached.',\n",
       " '',\n",
       " '',\n",
       " '',\n",
       " 'satisfied',\n",
       " 'price could have been as less as quantity',\n",
       " '',\n",
       " '',\n",
       " 'Bad taste and making',\n",
       " '',\n",
       " '',\n",
       " 'BEST DAHI SMAOSA AND DAHI TAKKI I EVER HAD IN HYDERABAD TOOO GOOOD MUSTT TRYYY 😍😍😍💗❤️',\n",
       " 'One of the worst chaats ever.\\nOrdered Mumbai pav bhaji which doesn’t look or taste like that, attaching the pic, think they sent masala pav instead which was not even close.\\nMasala puri full of red chilli powder, puri completely soggy although this place is very near.\\nDahi Samosa… bad smell of oil.. using low quality oil… their sev also tasted that way…\\nNever going to order.. why even they open just places…',\n",
       " '',\n",
       " '']"
      ]
     },
     "execution_count": 126,
     "metadata": {},
     "output_type": "execute_result"
    }
   ],
   "source": [
    "text_list"
   ]
  },
  {
   "cell_type": "code",
   "execution_count": 127,
   "metadata": {},
   "outputs": [],
   "source": [
    "f = open(\"The_Alchemy.txt\", \"w\", encoding=\"utf-8\")\n",
    "for i in text_list:\n",
    "    f.write('%s\\n' %i)\n",
    "f.close()"
   ]
  }
 ],
 "metadata": {
  "kernelspec": {
   "display_name": "Python 3",
   "language": "python",
   "name": "python3"
  },
  "language_info": {
   "codemirror_mode": {
    "name": "ipython",
    "version": 3
   },
   "file_extension": ".py",
   "mimetype": "text/x-python",
   "name": "python",
   "nbconvert_exporter": "python",
   "pygments_lexer": "ipython3",
   "version": "3.11.4"
  },
  "orig_nbformat": 4
 },
 "nbformat": 4,
 "nbformat_minor": 2
}

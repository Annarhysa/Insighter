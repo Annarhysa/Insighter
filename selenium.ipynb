{
 "cells": [
  {
   "cell_type": "code",
   "execution_count": 29,
   "metadata": {},
   "outputs": [],
   "source": [
    "from selenium import webdriver\n",
    "import time\n",
    "from selenium.webdriver.common.by import By"
   ]
  },
  {
   "cell_type": "code",
   "execution_count": 63,
   "metadata": {},
   "outputs": [],
   "source": [
    "browser = webdriver.Chrome()\n",
    "browser.get('https://www.zomato.com/hyderabad/body-power-cafe-kondapur/reviews')\n",
    "#element = browser.find_element(By.XPATH, \"/html/body/div[1]/div/main/div/article/div/section/section/div[3]/h2/a\")\n",
    "#element.click()\n",
    "#time.sleep(3)"
   ]
  },
  {
   "cell_type": "code",
   "execution_count": null,
   "metadata": {},
   "outputs": [],
   "source": [
    "<p class=\"sc-1hez2tp-0 sc-hkHFWD fLEALF\">food quality is compromised.. started feeling upset tummy after consuming this food </p>"
   ]
  },
  {
   "cell_type": "code",
   "execution_count": null,
   "metadata": {},
   "outputs": [],
   "source": [
    "<p class=\"sc-1hez2tp-0 sc-hkHFWD fLEALF\">spoiled food. </p>"
   ]
  },
  {
   "cell_type": "code",
   "execution_count": 65,
   "metadata": {},
   "outputs": [
    {
     "data": {
      "text/plain": [
       "[<selenium.webdriver.remote.webelement.WebElement (session=\"4b2ee171beae920f2aa7509bd9ac17ba\", element=\"A064A92C4652C4D3C6484BAB10A38DFB_element_96\")>,\n",
       " <selenium.webdriver.remote.webelement.WebElement (session=\"4b2ee171beae920f2aa7509bd9ac17ba\", element=\"A064A92C4652C4D3C6484BAB10A38DFB_element_224\")>,\n",
       " <selenium.webdriver.remote.webelement.WebElement (session=\"4b2ee171beae920f2aa7509bd9ac17ba\", element=\"A064A92C4652C4D3C6484BAB10A38DFB_element_229\")>,\n",
       " <selenium.webdriver.remote.webelement.WebElement (session=\"4b2ee171beae920f2aa7509bd9ac17ba\", element=\"A064A92C4652C4D3C6484BAB10A38DFB_element_237\")>,\n",
       " <selenium.webdriver.remote.webelement.WebElement (session=\"4b2ee171beae920f2aa7509bd9ac17ba\", element=\"A064A92C4652C4D3C6484BAB10A38DFB_element_242\")>]"
      ]
     },
     "execution_count": 65,
     "metadata": {},
     "output_type": "execute_result"
    }
   ],
   "source": [
    "element_list = browser.find_elements(By.CLASS_NAME,\"sc-1hez2tp-0.sc-hkHFWD.fLEALF\")\n",
    "element_list"
   ]
  },
  {
   "cell_type": "code",
   "execution_count": 66,
   "metadata": {},
   "outputs": [],
   "source": [
    "text_list = []\n",
    "for element in element_list:\n",
    "    text_list.append(element.text)"
   ]
  },
  {
   "cell_type": "code",
   "execution_count": 67,
   "metadata": {},
   "outputs": [
    {
     "data": {
      "text/plain": [
       "['food quality is compromised.. started feeling upset tummy after consuming this food',\n",
       " '',\n",
       " 'great food',\n",
       " '',\n",
       " '']"
      ]
     },
     "execution_count": 67,
     "metadata": {},
     "output_type": "execute_result"
    }
   ],
   "source": [
    "text_list"
   ]
  },
  {
   "cell_type": "code",
   "execution_count": 62,
   "metadata": {},
   "outputs": [],
   "source": [
    "f = open(\"Body_power_cafe.txt\", \"w\", encoding=\"utf-8\")\n",
    "for i in text_list:\n",
    "    f.write('%s\\n' %i)\n",
    "f.close()"
   ]
  }
 ],
 "metadata": {
  "kernelspec": {
   "display_name": "Python 3",
   "language": "python",
   "name": "python3"
  },
  "language_info": {
   "codemirror_mode": {
    "name": "ipython",
    "version": 3
   },
   "file_extension": ".py",
   "mimetype": "text/x-python",
   "name": "python",
   "nbconvert_exporter": "python",
   "pygments_lexer": "ipython3",
   "version": "3.11.4"
  },
  "orig_nbformat": 4
 },
 "nbformat": 4,
 "nbformat_minor": 2
}

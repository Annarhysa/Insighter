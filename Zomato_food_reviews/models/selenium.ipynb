{
 "cells": [
  {
   "cell_type": "code",
   "execution_count": 2,
   "metadata": {},
   "outputs": [],
   "source": [
    "from selenium import webdriver\n",
    "import time\n",
    "from selenium.webdriver.common.by import By"
   ]
  },
  {
   "cell_type": "code",
   "execution_count": 88,
   "metadata": {},
   "outputs": [],
   "source": [
    "browser = webdriver.Chrome()\n",
    "browser.get('https://www.google.com/search?q=neera+cafe+hyderabad&rlz=1C1OPNX_enIN1028IN1028&oq=neera&aqs=chrome.0.69i59j46i131i433i512j46i433i512j69i64j46i131i433i650j46i131i433i512j69i60l2.417683j0j9&sourceid=chrome&ie=UTF-8#lrd=0x3bcb97e123cb4a9d:0x4ac8b9523cc0738a,1,,,,')"
   ]
  },
  {
   "cell_type": "code",
   "execution_count": 89,
   "metadata": {},
   "outputs": [],
   "source": [
    "text_list = []"
   ]
  },
  {
   "cell_type": "code",
   "execution_count": 101,
   "metadata": {},
   "outputs": [],
   "source": [
    "for i in range(1,20):\n",
    "    path = f\"/html/body/span[2]/g-lightbox/div/div[2]/div[3]/span/div/div/div/div[2]/div[4]/div[4]/div[2]/div[{i}]/div[1]/div[3]/div/div[1]/div[2]/span/span/span\"\n",
    "    element_list = browser.find_elements(By.XPATH, path)\n",
    "    for element in element_list:\n",
    "        text_list.append(element.text)"
   ]
  },
  {
   "cell_type": "code",
   "execution_count": 102,
   "metadata": {},
   "outputs": [
    {
     "data": {
      "text/plain": [
       "[\"This is an initiative by the Telangana Tourism to promote the natural sap from palmyra trees as a health drink and thereby encourage and ensure financial sustenance to the widespread toddy tappers' community. We went there on a Sunday afternoon and unfortunately the stock got over well before time - poor planning and execution.\",\n",
       " '',\n",
       " 'New 0% Alcoholic beverage in town !!!\\n\\nHappen to visit this place for the first time since their opening. …',\n",
       " '',\n",
       " \"Just to taste neera we should hooo\\nNeera bottle is 90rs reasonable\\nIt's max same like orginal neera …\",\n",
       " 'Nice place to hangout by the lake , nice view . Some snacks available\\nMust try Telengana drink ( neera ).',\n",
       " ' …',\n",
       " '',\n",
       " 'Good veiw must go full tank band u can see from this place .must go at night to see …',\n",
       " 'I felt it added sugar...does not meet the original neera.  There was a store  called  Telangana Pindi vantalu, The snacks we bought were not tasty at all.',\n",
       " ' …',\n",
       " '',\n",
       " 'Neera drink is definitely worth a try due to its immense health benefits. Only point of observation which needs be properly implemented is, on every bottle served there is a bottling date on which no date has been specified. Though makers …',\n",
       " \"It's open till 9PM but the stock lasts only till 4-5PM due to its high demand. I suggest y'all to visit this place before 4PM.\",\n",
       " ' …',\n",
       " '',\n",
       " 'A cool place to hang out with friends\\n\\nNeera products are mostly Out of stock …',\n",
       " '',\n",
       " \"90- per one neera bottle.\\nTastes like bleaching powder + coconut water.\\nI don't really know about the nutrition facts but yeah you can hardly like it's …\",\n",
       " \"Went there in second week of July. Don't expect neera to have the same taste of pure toddy. It was more like enhanced version of coconut juice.  Cost was around 90 rs for 300 ml, which is on a higher side for me, considering we would get a liter for around 200 in outskirts of hyderabad.\",\n",
       " ' …',\n",
       " '',\n",
       " \"Had neera of one small bottle. It's is costly rs 190. It's like coconut water with sugar after fermentation. Not as expected. But the Hussain Sagar view is good. Bouquet hall is there. 3-4 shops includes pista house and Telangana …\",\n",
       " '',\n",
       " 'Its an exclusive cafe for neera(a drink with lots of health benefits).\\nThere are few others restaurants nearby food n drinks.\\nPlace is not crowded usually. …',\n",
       " '',\n",
       " \"90- per one neera bottle.\\nTastes like bleaching powder + coconut water.\\nI don't really know about the nutrition facts but yeah you can hardly like it's …\",\n",
       " \"Went there in second week of July. Don't expect neera to have the same taste of pure toddy. It was more like enhanced version of coconut juice.  Cost was around 90 rs for 300 ml, which is on a higher side for me, considering we would get a liter for around 200 in outskirts of hyderabad.\",\n",
       " ' …',\n",
       " '',\n",
       " \"Had neera of one small bottle. It's is costly rs 190. It's like coconut water with sugar after fermentation. Not as expected. But the Hussain Sagar view is good. Bouquet hall is there. 3-4 shops includes pista house and Telangana …\",\n",
       " \"Can try once , it's just like sugarcane juice with more sweeter\\n\\nTiming is only after 12\\n\\nDon't go before\\nTiming is 12pm-5pm\\n\\nCan take a ride to the Buddha statye\\n\\n200ml bottle cost ₹100/-\",\n",
       " 'Best place to get the natural sap in the city, especially for summers.',\n",
       " \"This is a good place for boating in Hussain Sagar within 50/- per person which is pocket friendly. We can visit the budha statue also in this trip. There are very less food stalls here. Food stalls can be added. I didn't visit the neera stall so I have no idea on that. Overall, it's a good place for boating in my opinion.\\nFood: 3/5\",\n",
       " 'If you like thati munjalu, you will like the drink taste. Taste is refreshing.\\n\\nBottling company date was not mentioned on bottle but expiry date was mentioned as 3 days from bottling. 🤷',\n",
       " '',\n",
       " 'Best place to get the natural sap in the city, especially for summers.',\n",
       " ' …',\n",
       " \"This is a good place for boating in Hussain Sagar within 50/- per person which is pocket friendly. We can visit the budha statue also in this trip. There are very less food stalls here. Food stalls can be added. I didn't visit the neera stall so I have no idea on that. Overall, it's a good place for boating in my opinion.\\nFood: 3/5\",\n",
       " '',\n",
       " 'If you like thati munjalu, you will like the drink taste. Taste is refreshing.\\n\\nBottling company date was not mentioned on bottle but expiry date was mentioned as 3 days from bottling. 🤷',\n",
       " ' …',\n",
       " '',\n",
       " 'Most overrated . But  nice thinking govt . If the price of neera will be 40-50 between almost every person who comes first time will  buy for the present cost. But if price less means every person will try 2-3  bottles. …']"
      ]
     },
     "execution_count": 102,
     "metadata": {},
     "output_type": "execute_result"
    }
   ],
   "source": [
    "text_list"
   ]
  },
  {
   "cell_type": "code",
   "execution_count": 463,
   "metadata": {},
   "outputs": [],
   "source": [
    "for i in range(2):\n",
    "    element_list = browser.find_elements(By.XPATH,\"/html/body/div[1]/div/main/div/section[4]/div/div/section/div[2]/p\")\n",
    "    for element in element_list:\n",
    "        text_list.append(element.text)\n",
    "    element = browser.find_element(By.XPATH, \"/html/body/div[1]/div/main/div/section[4]/div/div/section/div[3]/div[2]/div/a[5]/div\")\n",
    "    element.click()\n",
    "    time.sleep(3)\n"
   ]
  },
  {
   "cell_type": "code",
   "execution_count": 103,
   "metadata": {},
   "outputs": [],
   "source": [
    "f = open(\"dummy.txt\", \"w\", encoding=\"utf-8\")\n",
    "for i in text_list:\n",
    "    f.write('%s\\n' %i)\n",
    "f.close()"
   ]
  }
 ],
 "metadata": {
  "kernelspec": {
   "display_name": "Python 3",
   "language": "python",
   "name": "python3"
  },
  "language_info": {
   "codemirror_mode": {
    "name": "ipython",
    "version": 3
   },
   "file_extension": ".py",
   "mimetype": "text/x-python",
   "name": "python",
   "nbconvert_exporter": "python",
   "pygments_lexer": "ipython3",
   "version": "3.11.4"
  },
  "orig_nbformat": 4
 },
 "nbformat": 4,
 "nbformat_minor": 2
}

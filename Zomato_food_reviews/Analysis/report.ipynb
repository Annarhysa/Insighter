{
 "cells": [
  {
   "cell_type": "code",
   "execution_count": 3,
   "metadata": {},
   "outputs": [],
   "source": [
    "import pandas as pd\n",
    "import os\n",
    "from textblob import TextBlob\n",
    "from nltk.corpus import stopwords\n",
    "import nltk\n",
    "import re"
   ]
  },
  {
   "cell_type": "code",
   "execution_count": 100,
   "metadata": {},
   "outputs": [],
   "source": [
    "# Download NLTK data (if not already downloaded)\n",
    "#nltk.download(\"punkt\")\n",
    "#nltk.download(\"stopwords\")"
   ]
  },
  {
   "cell_type": "code",
   "execution_count": 4,
   "metadata": {},
   "outputs": [],
   "source": [
    "csv_directory = \"C:/Users/annar/OneDrive/Desktop/Visual Studio/GitHub/Projects2/Insighter/Zomato_food_reviews/Data\"\n",
    "os.chdir(csv_directory)\n"
   ]
  },
  {
   "cell_type": "code",
   "execution_count": 5,
   "metadata": {},
   "outputs": [
    {
     "data": {
      "text/html": [
       "<div>\n",
       "<style scoped>\n",
       "    .dataframe tbody tr th:only-of-type {\n",
       "        vertical-align: middle;\n",
       "    }\n",
       "\n",
       "    .dataframe tbody tr th {\n",
       "        vertical-align: top;\n",
       "    }\n",
       "\n",
       "    .dataframe thead th {\n",
       "        text-align: right;\n",
       "    }\n",
       "</style>\n",
       "<table border=\"1\" class=\"dataframe\">\n",
       "  <thead>\n",
       "    <tr style=\"text-align: right;\">\n",
       "      <th></th>\n",
       "      <th>Reviews</th>\n",
       "    </tr>\n",
       "  </thead>\n",
       "  <tbody>\n",
       "    <tr>\n",
       "      <th>0</th>\n",
       "      <td>This place specializes in smoothies as well as...</td>\n",
       "    </tr>\n",
       "    <tr>\n",
       "      <th>1</th>\n",
       "      <td>The milk shake tasted so good that I took back...</td>\n",
       "    </tr>\n",
       "    <tr>\n",
       "      <th>2</th>\n",
       "      <td>The chicken sandwich also tasted really good. ...</td>\n",
       "    </tr>\n",
       "    <tr>\n",
       "      <th>3</th>\n",
       "      <td>Excellent recipes, natural tastes, well crafte...</td>\n",
       "    </tr>\n",
       "    <tr>\n",
       "      <th>4</th>\n",
       "      <td>good</td>\n",
       "    </tr>\n",
       "  </tbody>\n",
       "</table>\n",
       "</div>"
      ],
      "text/plain": [
       "                                             Reviews\n",
       "0  This place specializes in smoothies as well as...\n",
       "1  The milk shake tasted so good that I took back...\n",
       "2  The chicken sandwich also tasted really good. ...\n",
       "3  Excellent recipes, natural tastes, well crafte...\n",
       "4                                               good"
      ]
     },
     "execution_count": 5,
     "metadata": {},
     "output_type": "execute_result"
    }
   ],
   "source": [
    "# Load the CSV dataset\n",
    "data = pd.read_csv(\"./csv_files/drunken_monkey.csv\")\n",
    "data.head()"
   ]
  },
  {
   "cell_type": "code",
   "execution_count": 7,
   "metadata": {},
   "outputs": [],
   "source": [
    "def converting_to_list(path):\n",
    "    final_list = []\n",
    "    # opening the file in read mode\n",
    "    my_file = open(path, \"r\")\n",
    "\n",
    "    # reading the file\n",
    "    data = my_file.read()\n",
    "\n",
    "    # replacing end splitting the text\n",
    "    # when newline ('\\n') is seen.\n",
    "    data_into_list = data.split(\"\\n\")\n",
    "    for i in data_into_list:\n",
    "        i = i.lower()\n",
    "        final_list.append(i)\n",
    "\n",
    "    return final_list\n",
    "    my_file.close()"
   ]
  },
  {
   "cell_type": "code",
   "execution_count": 8,
   "metadata": {},
   "outputs": [],
   "source": [
    "def positive(words_list,text):\n",
    "    if any(map(lambda v: v in words_list, text)):\n",
    "        answer = \"positive\"\n",
    "    else:\n",
    "        answer = 1\n",
    "    return answer"
   ]
  },
  {
   "cell_type": "code",
   "execution_count": 9,
   "metadata": {},
   "outputs": [],
   "source": [
    "def negative_neutral(words_list,text):\n",
    "    if any(map(lambda v: v in words_list, text)):\n",
    "        answer = \"negative\"\n",
    "    else:\n",
    "        answer = \"neutral\"\n",
    "    return answer"
   ]
  },
  {
   "cell_type": "code",
   "execution_count": 31,
   "metadata": {},
   "outputs": [],
   "source": [
    "def analyze_sentiment_based_on_criterion(text, criterion):\n",
    "    text = text.lower()\n",
    "    text = text.split()\n",
    "\n",
    "    if criterion == \"Taste of food\":\n",
    "        path = \"./txt_files/word_bags/taste_of_food_good.txt\"\n",
    "        words_list = converting_to_list(path)\n",
    "\n",
    "        path2 = \"./txt_files/word_bags/taste_of_food_bad.txt\"\n",
    "        words_list2 = converting_to_list(path2)\n",
    "\n",
    "        sentiment = positive(words_list,text)\n",
    "        \n",
    "        if sentiment == 1:\n",
    "            new_sentiment = negative_neutral(words_list2,text)\n",
    "            return new_sentiment\n",
    "        else:\n",
    "            return sentiment"
   ]
  },
  {
   "cell_type": "code",
   "execution_count": null,
   "metadata": {},
   "outputs": [],
   "source": [
    "# Define the judging criteria\n",
    "criteria = [\n",
    "    \"Taste of food\",\n",
    "    \"Quality of food\",\n",
    "    \"Quantity of food\",\n",
    "    \"Location\",\n",
    "    \"Accessibility\",\n",
    "    \"Delivery Agent's behavior and time taken\",\n",
    "    \"Packaging of food delivered\",\n",
    "    \"How healthy the food is\",\n",
    "    \"Presentation of the food\",\n",
    "    \"Décor/ambience of the restaurant\",\n",
    "]"
   ]
  },
  {
   "cell_type": "code",
   "execution_count": 38,
   "metadata": {},
   "outputs": [],
   "source": [
    "# Create a dictionary to store the results\n",
    "results = {}\n",
    "\n",
    "data[\"cleaned_review\"] = data[\"Reviews\"].apply(lambda x: re.sub(r\"[^a-zA-Z0-9\\s]\", \"\", x).lower())\n",
    "\n",
    "data_list = []\n",
    "taste_food = []\n",
    "for i in range(len(data)):\n",
    "    data_list.append(data.loc[i,\"cleaned_review\"])\n",
    "\n",
    "data_list\n",
    "\n",
    "for i in data_list:\n",
    "    taste_food.append(analyze_sentiment_based_on_criterion(i, \"Taste of food\"))\n",
    "\n",
    "data['Taste of food'] = pd.Series(taste_food)\n",
    "\n",
    "# Calculate the percentage of positive, neutral, and negative reviews\n",
    "sentiment_counts = data[\"Taste of food\"].value_counts(normalize=True) * 100\n",
    "    \n",
    "# Store the results in the dictionary\n",
    "results[\"Taste of food\"] = {\n",
    "    \"Positive\": sentiment_counts.get(\"positive\", 0),\n",
    "    \"Neutral\": sentiment_counts.get(\"neutral\", 0),\n",
    "    \"Negative\": sentiment_counts.get(\"negative\", 0),\n",
    "}"
   ]
  },
  {
   "cell_type": "code",
   "execution_count": 39,
   "metadata": {},
   "outputs": [
    {
     "data": {
      "text/plain": [
       "{'Taste of food': {'Positive': 27.142857142857142,\n",
       "  'Neutral': 71.0204081632653,\n",
       "  'Negative': 1.8367346938775513}}"
      ]
     },
     "execution_count": 39,
     "metadata": {},
     "output_type": "execute_result"
    }
   ],
   "source": [
    "results"
   ]
  },
  {
   "cell_type": "code",
   "execution_count": 40,
   "metadata": {},
   "outputs": [
    {
     "data": {
      "text/html": [
       "<div>\n",
       "<style scoped>\n",
       "    .dataframe tbody tr th:only-of-type {\n",
       "        vertical-align: middle;\n",
       "    }\n",
       "\n",
       "    .dataframe tbody tr th {\n",
       "        vertical-align: top;\n",
       "    }\n",
       "\n",
       "    .dataframe thead th {\n",
       "        text-align: right;\n",
       "    }\n",
       "</style>\n",
       "<table border=\"1\" class=\"dataframe\">\n",
       "  <thead>\n",
       "    <tr style=\"text-align: right;\">\n",
       "      <th></th>\n",
       "      <th>Reviews</th>\n",
       "      <th>cleaned_review</th>\n",
       "      <th>Taste of food</th>\n",
       "    </tr>\n",
       "  </thead>\n",
       "  <tbody>\n",
       "    <tr>\n",
       "      <th>0</th>\n",
       "      <td>This place specializes in smoothies as well as...</td>\n",
       "      <td>this place specializes in smoothies as well as...</td>\n",
       "      <td>neutral</td>\n",
       "    </tr>\n",
       "    <tr>\n",
       "      <th>1</th>\n",
       "      <td>The milk shake tasted so good that I took back...</td>\n",
       "      <td>the milk shake tasted so good that i took back...</td>\n",
       "      <td>positive</td>\n",
       "    </tr>\n",
       "    <tr>\n",
       "      <th>2</th>\n",
       "      <td>The chicken sandwich also tasted really good. ...</td>\n",
       "      <td>the chicken sandwich also tasted really good i...</td>\n",
       "      <td>positive</td>\n",
       "    </tr>\n",
       "    <tr>\n",
       "      <th>3</th>\n",
       "      <td>Excellent recipes, natural tastes, well crafte...</td>\n",
       "      <td>excellent recipes natural tastes well crafted ...</td>\n",
       "      <td>neutral</td>\n",
       "    </tr>\n",
       "    <tr>\n",
       "      <th>4</th>\n",
       "      <td>good</td>\n",
       "      <td>good</td>\n",
       "      <td>positive</td>\n",
       "    </tr>\n",
       "  </tbody>\n",
       "</table>\n",
       "</div>"
      ],
      "text/plain": [
       "                                             Reviews  \\\n",
       "0  This place specializes in smoothies as well as...   \n",
       "1  The milk shake tasted so good that I took back...   \n",
       "2  The chicken sandwich also tasted really good. ...   \n",
       "3  Excellent recipes, natural tastes, well crafte...   \n",
       "4                                               good   \n",
       "\n",
       "                                      cleaned_review Taste of food  \n",
       "0  this place specializes in smoothies as well as...       neutral  \n",
       "1  the milk shake tasted so good that i took back...      positive  \n",
       "2  the chicken sandwich also tasted really good i...      positive  \n",
       "3  excellent recipes natural tastes well crafted ...       neutral  \n",
       "4                                               good      positive  "
      ]
     },
     "execution_count": 40,
     "metadata": {},
     "output_type": "execute_result"
    }
   ],
   "source": [
    "data.head()"
   ]
  },
  {
   "cell_type": "code",
   "execution_count": 41,
   "metadata": {},
   "outputs": [
    {
     "name": "stdout",
     "output_type": "stream",
     "text": [
      "{'Taste of food': {'Positive': 27.142857142857142, 'Neutral': 71.0204081632653, 'Negative': 1.8367346938775513}}\n"
     ]
    }
   ],
   "source": [
    "plot_dict = {}\n",
    "for criterion, sentiment_counts in results.items():\n",
    "    plot_dict.update({criterion: sentiment_counts})\n",
    "\n",
    "print(plot_dict)"
   ]
  },
  {
   "cell_type": "code",
   "execution_count": 42,
   "metadata": {},
   "outputs": [],
   "source": [
    "import matplotlib.pyplot as plt\n",
    "import numpy as np\n",
    "\n",
    "def plotting(plot_dict):\n",
    "    categories = list(plot_dict.keys())\n",
    "    sentiments = ['Positive', 'Neutral', 'Negative']\n",
    "    num_categories = len(categories)\n",
    "    width = 0.2\n",
    "\n",
    "    fig, ax = plt.subplots()\n",
    "\n",
    "    for i, sentiment in enumerate(sentiments):\n",
    "        x = np.arange(len(categories)) + i * width\n",
    "        y = [plot_dict[category][sentiment] for category in categories]\n",
    "        ax.bar(x, y, width, label=sentiment)\n",
    "\n",
    "    ax.set_ylabel('Percentage (%)')\n",
    "    ax.set_title('Sentiment Analysis by Category')\n",
    "    ax.set_xticks(np.arange(len(categories)) + width * (len(sentiments) - 1) / 2)\n",
    "    ax.set_xticklabels(categories, rotation=45, ha='right')  # Corrected x-axis tick labels\n",
    "    ax.legend(title='Sentiments')\n",
    "\n",
    "    plt.tight_layout()\n",
    "    plt.show()\n",
    "    plt.show()\n"
   ]
  },
  {
   "cell_type": "code",
   "execution_count": 43,
   "metadata": {},
   "outputs": [
    {
     "data": {
      "image/png": "[encoded data removed]",
      "text/plain": [
       "<Figure size 640x480 with 1 Axes>"
      ]
     },
     "metadata": {},
     "output_type": "display_data"
    }
   ],
   "source": [
    "plotting(plot_dict)"
   ]
  }
 ],
 "metadata": {
  "kernelspec": {
   "display_name": "Python 3",
   "language": "python",
   "name": "python3"
  },
  "language_info": {
   "codemirror_mode": {
    "name": "ipython",
    "version": 3
   },
   "file_extension": ".py",
   "mimetype": "text/x-python",
   "name": "python",
   "nbconvert_exporter": "python",
   "pygments_lexer": "ipython3",
   "version": "3.11.4"
  },
  "orig_nbformat": 4
 },
 "nbformat": 4,
 "nbformat_minor": 2
}

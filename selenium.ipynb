{
 "cells": [
  {
   "cell_type": "code",
   "execution_count": 20,
   "metadata": {},
   "outputs": [],
   "source": [
    "from selenium import webdriver\n",
    "import time\n",
    "from selenium.webdriver.common.by import By"
   ]
  },
  {
   "cell_type": "code",
   "execution_count": 26,
   "metadata": {},
   "outputs": [],
   "source": [
    "browser = webdriver.Chrome()\n",
    "browser.get('https://www.zomato.com/hyderabad/healthy-juice-center-abids')\n",
    "element = browser.find_element(By.XPATH, \"/html/body/div[1]/div/main/div/article/div/section/section/div[2]/h2/a\")\n",
    "element.click()\n",
    "time.sleep(3)\n",
    "element_list = browser.find_elements(By.CLASS_NAME,\"sc-1hez2tp-0.sc-hkHFWD.fLEALF\")"
   ]
  },
  {
   "cell_type": "code",
   "execution_count": 27,
   "metadata": {},
   "outputs": [],
   "source": [
    "text_list = []\n",
    "for element in element_list:\n",
    "    text_list.append(element.text)"
   ]
  },
  {
   "cell_type": "code",
   "execution_count": 28,
   "metadata": {},
   "outputs": [
    {
     "data": {
      "text/plain": [
       "['',\n",
       " 'Visited this place a couple days before with my husband and my brother. We ordered Chiku Juice, Chocolate shake and Anar juice. Anar was a bit bitter probably due to the presence of seeds. Nonetheless, it was tasty. Chocolate shake and Chiku juice were the highlight and were simply amazing. Would love to visit the place again.',\n",
       " 'Strawberry 🍓\\n\\nThis is a dedicated Juice only center and it lives up to by the name it has.. Totally hygienic and a variety of juices, milkshakes, ice cream and ice golas to offer\\n\\nTried for the Strawberry juice and it was great.. No sugar added 8-)',\n",
       " 'Healthy juice center is near bogulgunta cross roads..this area is an hub for veg delicasies be it chats ,juices ;pizzas, ice creams or south indian food..\\n\\nJust a casual visit here and found this place very good in terms of ambience and cleanliness..\\n\\nChoose to have ...\\nLitchee punch...vanilla ice cream blended with litchee fruit was an passable thing for unknown reasons there was ice particles in the shake which i found it to be odd...\\n\\nSeethaphal juice...perfect in taste and absolutely excellent...\\n\\nOverall a nice and decent place for you juice cravings....',\n",
       " \"Healthy juice centre - not sure how much it stands by its name. Located at bogulkunta cross roads of abids , this place is in between many small food courts. We had mango juice and mixed fruit juice. While mango was good , mixed fruit juice was more of grape and less of other fruits which made it very sour. Haven't seen any special health drinks which we won't be finding in a normal juice store.\"]"
      ]
     },
     "execution_count": 28,
     "metadata": {},
     "output_type": "execute_result"
    }
   ],
   "source": [
    "text_list"
   ]
  },
  {
   "cell_type": "code",
   "execution_count": 24,
   "metadata": {},
   "outputs": [],
   "source": [
    "f = open(\"Healthy_juice_centre.txt\", \"w\", encoding=\"utf-8\")\n",
    "for i in text_list:\n",
    "    f.write('%s\\n' %i)\n",
    "f.close()"
   ]
  }
 ],
 "metadata": {
  "kernelspec": {
   "display_name": "Python 3",
   "language": "python",
   "name": "python3"
  },
  "language_info": {
   "codemirror_mode": {
    "name": "ipython",
    "version": 3
   },
   "file_extension": ".py",
   "mimetype": "text/x-python",
   "name": "python",
   "nbconvert_exporter": "python",
   "pygments_lexer": "ipython3",
   "version": "3.11.4"
  },
  "orig_nbformat": 4
 },
 "nbformat": 4,
 "nbformat_minor": 2
}
